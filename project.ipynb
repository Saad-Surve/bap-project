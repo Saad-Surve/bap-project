{
 "cells": [
  {
   "cell_type": "code",
   "execution_count": 3,
   "metadata": {},
   "outputs": [
    {
     "data": {
      "text/plain": [
       "Index(['Sr No', 'UID', 'Student Name', 'Email ID', 'Project Title', 'Domain',\n",
       "       'Project Guide', 'Field/Market Survey & Literature Survey (10)',\n",
       "       'Problem Definition (5)', 'Presentation (10)', 'Project Planning (5)',\n",
       "       'Phase 1 marks',\n",
       "       'Architecture,Design/Algorithm Testing/Simulation/ System Flow Diagram (DFD)',\n",
       "       '70% Project Implementaion (20)', 'Ethics', 'Team Work (5)',\n",
       "       'Presentation(5)', 'Phase 2 marks', 'Presentation (10).1',\n",
       "       'Implementation', 'Project Report (10)', 'Phase 3 marks', 'ESE marks',\n",
       "       'Unnamed: 23'],\n",
       "      dtype='object')"
      ]
     },
     "execution_count": 3,
     "metadata": {},
     "output_type": "execute_result"
    }
   ],
   "source": [
    "import pandas as pd\n",
    "\n",
    "df = pd.read_csv('./data.csv')\n",
    "\n",
    "df.columns"
   ]
  },
  {
   "cell_type": "code",
   "execution_count": 4,
   "metadata": {},
   "outputs": [
    {
     "data": {
      "text/plain": [
       "Sr No                                                                            0\n",
       "UID                                                                              0\n",
       "Student Name                                                                     0\n",
       "Email ID                                                                         0\n",
       "Project Title                                                                    0\n",
       "Domain                                                                           0\n",
       "Project Guide                                                                    0\n",
       "Field/Market Survey & Literature Survey (10)                                     0\n",
       "Problem Definition (5)                                                           0\n",
       "Presentation (10)                                                                0\n",
       "Project Planning (5)                                                             0\n",
       "Phase 1 marks                                                                    0\n",
       "Architecture,Design/Algorithm Testing/Simulation/ System Flow Diagram (DFD)      0\n",
       "70% Project Implementaion (20)                                                   0\n",
       "Ethics                                                                           0\n",
       "Team Work (5)                                                                    0\n",
       "Presentation(5)                                                                  0\n",
       "Phase 2 marks                                                                    0\n",
       "Presentation (10).1                                                              0\n",
       "Implementation                                                                   0\n",
       "Project Report (10)                                                              0\n",
       "Phase 3 marks                                                                    0\n",
       "ESE marks                                                                        0\n",
       "Unnamed: 23                                                                    308\n",
       "dtype: int64"
      ]
     },
     "execution_count": 4,
     "metadata": {},
     "output_type": "execute_result"
    }
   ],
   "source": [
    "df.isnull().sum()"
   ]
  },
  {
   "cell_type": "code",
   "execution_count": 5,
   "metadata": {},
   "outputs": [],
   "source": [
    "df.drop(df.filter(regex=\"Unname\"),axis=1, inplace=True)"
   ]
  },
  {
   "cell_type": "code",
   "execution_count": 6,
   "metadata": {},
   "outputs": [
    {
     "data": {
      "text/html": [
       "<div>\n",
       "<style scoped>\n",
       "    .dataframe tbody tr th:only-of-type {\n",
       "        vertical-align: middle;\n",
       "    }\n",
       "\n",
       "    .dataframe tbody tr th {\n",
       "        vertical-align: top;\n",
       "    }\n",
       "\n",
       "    .dataframe thead th {\n",
       "        text-align: right;\n",
       "    }\n",
       "</style>\n",
       "<table border=\"1\" class=\"dataframe\">\n",
       "  <thead>\n",
       "    <tr style=\"text-align: right;\">\n",
       "      <th></th>\n",
       "      <th>Sr No</th>\n",
       "      <th>UID</th>\n",
       "      <th>Student Name</th>\n",
       "      <th>Email ID</th>\n",
       "      <th>Project Title</th>\n",
       "      <th>Domain</th>\n",
       "      <th>Project Guide</th>\n",
       "      <th>Field/Market Survey &amp; Literature Survey (10)</th>\n",
       "      <th>Problem Definition (5)</th>\n",
       "      <th>Presentation (10)</th>\n",
       "      <th>...</th>\n",
       "      <th>70% Project Implementaion (20)</th>\n",
       "      <th>Ethics</th>\n",
       "      <th>Team Work (5)</th>\n",
       "      <th>Presentation(5)</th>\n",
       "      <th>Phase 2 marks</th>\n",
       "      <th>Presentation (10).1</th>\n",
       "      <th>Implementation</th>\n",
       "      <th>Project Report (10)</th>\n",
       "      <th>Phase 3 marks</th>\n",
       "      <th>ESE marks</th>\n",
       "    </tr>\n",
       "  </thead>\n",
       "  <tbody>\n",
       "    <tr>\n",
       "      <th>0</th>\n",
       "      <td>1</td>\n",
       "      <td>2021300040</td>\n",
       "      <td>Prakhar Gupta</td>\n",
       "      <td>prakhar.gupta@spit.ac.in</td>\n",
       "      <td>Chronic disease  detection and cure</td>\n",
       "      <td>Machine Learning</td>\n",
       "      <td>Prof. Anand Godbole</td>\n",
       "      <td>10</td>\n",
       "      <td>4</td>\n",
       "      <td>8</td>\n",
       "      <td>...</td>\n",
       "      <td>17</td>\n",
       "      <td>5</td>\n",
       "      <td>5</td>\n",
       "      <td>5</td>\n",
       "      <td>36</td>\n",
       "      <td>8</td>\n",
       "      <td>10</td>\n",
       "      <td>9</td>\n",
       "      <td>27</td>\n",
       "      <td>82</td>\n",
       "    </tr>\n",
       "    <tr>\n",
       "      <th>1</th>\n",
       "      <td>1</td>\n",
       "      <td>2021300033</td>\n",
       "      <td>Parth Gandhi</td>\n",
       "      <td>parth.gandhi2@spit.ac.in</td>\n",
       "      <td>Chronic disease  detection and cure</td>\n",
       "      <td>Machine Learning</td>\n",
       "      <td>Prof. Anand Godbole</td>\n",
       "      <td>8</td>\n",
       "      <td>4</td>\n",
       "      <td>10</td>\n",
       "      <td>...</td>\n",
       "      <td>20</td>\n",
       "      <td>4</td>\n",
       "      <td>4</td>\n",
       "      <td>4</td>\n",
       "      <td>36</td>\n",
       "      <td>10</td>\n",
       "      <td>8</td>\n",
       "      <td>9</td>\n",
       "      <td>27</td>\n",
       "      <td>82</td>\n",
       "    </tr>\n",
       "    <tr>\n",
       "      <th>2</th>\n",
       "      <td>1</td>\n",
       "      <td>2021300031</td>\n",
       "      <td>Shaun D'Souza</td>\n",
       "      <td>shaun.dsouza@spit.ac.in</td>\n",
       "      <td>Chronic disease  detection and cure</td>\n",
       "      <td>Machine Learning</td>\n",
       "      <td>Prof. Anand Godbole</td>\n",
       "      <td>8</td>\n",
       "      <td>5</td>\n",
       "      <td>8</td>\n",
       "      <td>...</td>\n",
       "      <td>20</td>\n",
       "      <td>4</td>\n",
       "      <td>4</td>\n",
       "      <td>4</td>\n",
       "      <td>36</td>\n",
       "      <td>8</td>\n",
       "      <td>8</td>\n",
       "      <td>10</td>\n",
       "      <td>27</td>\n",
       "      <td>82</td>\n",
       "    </tr>\n",
       "    <tr>\n",
       "      <th>3</th>\n",
       "      <td>2</td>\n",
       "      <td>2021300023</td>\n",
       "      <td>ameya dabholkar</td>\n",
       "      <td>ameya.dabholkar@spit.ac.in</td>\n",
       "      <td>Dieses detection using Image classification &amp; ...</td>\n",
       "      <td>Machine Learning, OpenCV</td>\n",
       "      <td>Prof. Rupali sawant</td>\n",
       "      <td>8</td>\n",
       "      <td>5</td>\n",
       "      <td>9</td>\n",
       "      <td>...</td>\n",
       "      <td>18</td>\n",
       "      <td>4</td>\n",
       "      <td>5</td>\n",
       "      <td>5</td>\n",
       "      <td>38</td>\n",
       "      <td>10</td>\n",
       "      <td>9</td>\n",
       "      <td>8</td>\n",
       "      <td>27</td>\n",
       "      <td>81</td>\n",
       "    </tr>\n",
       "    <tr>\n",
       "      <th>4</th>\n",
       "      <td>2</td>\n",
       "      <td>2021300025</td>\n",
       "      <td>vedant deshmukh</td>\n",
       "      <td>vedant.deshmukh@spit.ac.in</td>\n",
       "      <td>Dieses detection using Image classification &amp; ...</td>\n",
       "      <td>Machine Learning, OpenCV</td>\n",
       "      <td>Prof. Rupali sawant</td>\n",
       "      <td>9</td>\n",
       "      <td>5</td>\n",
       "      <td>9</td>\n",
       "      <td>...</td>\n",
       "      <td>18</td>\n",
       "      <td>5</td>\n",
       "      <td>4</td>\n",
       "      <td>5</td>\n",
       "      <td>38</td>\n",
       "      <td>10</td>\n",
       "      <td>8</td>\n",
       "      <td>9</td>\n",
       "      <td>27</td>\n",
       "      <td>81</td>\n",
       "    </tr>\n",
       "  </tbody>\n",
       "</table>\n",
       "<p>5 rows × 23 columns</p>\n",
       "</div>"
      ],
      "text/plain": [
       "   Sr No         UID     Student Name                    Email ID  \\\n",
       "0      1  2021300040    Prakhar Gupta    prakhar.gupta@spit.ac.in   \n",
       "1      1  2021300033     Parth Gandhi    parth.gandhi2@spit.ac.in   \n",
       "2      1  2021300031    Shaun D'Souza     shaun.dsouza@spit.ac.in   \n",
       "3      2  2021300023  ameya dabholkar  ameya.dabholkar@spit.ac.in   \n",
       "4      2  2021300025  vedant deshmukh  vedant.deshmukh@spit.ac.in   \n",
       "\n",
       "                                       Project Title  \\\n",
       "0                Chronic disease  detection and cure   \n",
       "1                Chronic disease  detection and cure   \n",
       "2                Chronic disease  detection and cure   \n",
       "3  Dieses detection using Image classification & ...   \n",
       "4  Dieses detection using Image classification & ...   \n",
       "\n",
       "                     Domain         Project Guide  \\\n",
       "0          Machine Learning  Prof. Anand Godbole    \n",
       "1          Machine Learning  Prof. Anand Godbole    \n",
       "2          Machine Learning  Prof. Anand Godbole    \n",
       "3  Machine Learning, OpenCV   Prof. Rupali sawant   \n",
       "4  Machine Learning, OpenCV   Prof. Rupali sawant   \n",
       "\n",
       "  Field/Market Survey & Literature Survey (10) Problem Definition (5)  \\\n",
       "0                                           10                      4   \n",
       "1                                            8                      4   \n",
       "2                                            8                      5   \n",
       "3                                            8                      5   \n",
       "4                                            9                      5   \n",
       "\n",
       "  Presentation (10)  ... 70% Project Implementaion (20) Ethics Team Work (5)  \\\n",
       "0                 8  ...                             17      5             5   \n",
       "1                10  ...                             20      4             4   \n",
       "2                 8  ...                             20      4             4   \n",
       "3                 9  ...                             18      4             5   \n",
       "4                 9  ...                             18      5             4   \n",
       "\n",
       "  Presentation(5) Phase 2 marks Presentation (10).1 Implementation  \\\n",
       "0               5            36                   8             10   \n",
       "1               4            36                  10              8   \n",
       "2               4            36                   8              8   \n",
       "3               5            38                  10              9   \n",
       "4               5            38                  10              8   \n",
       "\n",
       "  Project Report (10) Phase 3 marks ESE marks  \n",
       "0                   9            27        82  \n",
       "1                   9            27        82  \n",
       "2                  10            27        82  \n",
       "3                   8            27        81  \n",
       "4                   9            27        81  \n",
       "\n",
       "[5 rows x 23 columns]"
      ]
     },
     "execution_count": 6,
     "metadata": {},
     "output_type": "execute_result"
    }
   ],
   "source": [
    "df.head()"
   ]
  },
  {
   "cell_type": "code",
   "execution_count": 7,
   "metadata": {},
   "outputs": [
    {
     "data": {
      "text/plain": [
       "Sr No                                                                          0\n",
       "UID                                                                            0\n",
       "Student Name                                                                   0\n",
       "Email ID                                                                       0\n",
       "Project Title                                                                  0\n",
       "Domain                                                                         0\n",
       "Project Guide                                                                  0\n",
       "Field/Market Survey & Literature Survey (10)                                   0\n",
       "Problem Definition (5)                                                         0\n",
       "Presentation (10)                                                              0\n",
       "Project Planning (5)                                                           0\n",
       "Phase 1 marks                                                                  0\n",
       "Architecture,Design/Algorithm Testing/Simulation/ System Flow Diagram (DFD)    0\n",
       "70% Project Implementaion (20)                                                 0\n",
       "Ethics                                                                         0\n",
       "Team Work (5)                                                                  0\n",
       "Presentation(5)                                                                0\n",
       "Phase 2 marks                                                                  0\n",
       "Presentation (10).1                                                            0\n",
       "Implementation                                                                 0\n",
       "Project Report (10)                                                            0\n",
       "Phase 3 marks                                                                  0\n",
       "ESE marks                                                                      0\n",
       "dtype: int64"
      ]
     },
     "execution_count": 7,
     "metadata": {},
     "output_type": "execute_result"
    }
   ],
   "source": [
    "df.isnull().sum()"
   ]
  },
  {
   "cell_type": "code",
   "execution_count": 8,
   "metadata": {},
   "outputs": [
    {
     "data": {
      "text/html": [
       "<div>\n",
       "<style scoped>\n",
       "    .dataframe tbody tr th:only-of-type {\n",
       "        vertical-align: middle;\n",
       "    }\n",
       "\n",
       "    .dataframe tbody tr th {\n",
       "        vertical-align: top;\n",
       "    }\n",
       "\n",
       "    .dataframe thead th {\n",
       "        text-align: right;\n",
       "    }\n",
       "</style>\n",
       "<table border=\"1\" class=\"dataframe\">\n",
       "  <thead>\n",
       "    <tr style=\"text-align: right;\">\n",
       "      <th></th>\n",
       "      <th>Sr No</th>\n",
       "      <th>UID</th>\n",
       "      <th>Student Name</th>\n",
       "      <th>Email ID</th>\n",
       "      <th>Project Title</th>\n",
       "      <th>Domain</th>\n",
       "      <th>Project Guide</th>\n",
       "      <th>Field/Market Survey &amp; Literature Survey (10)</th>\n",
       "      <th>Problem Definition (5)</th>\n",
       "      <th>Presentation (10)</th>\n",
       "      <th>...</th>\n",
       "      <th>70% Project Implementaion (20)</th>\n",
       "      <th>Ethics</th>\n",
       "      <th>Team Work (5)</th>\n",
       "      <th>Presentation(5)</th>\n",
       "      <th>Phase 2 marks</th>\n",
       "      <th>Presentation (10).1</th>\n",
       "      <th>Implementation</th>\n",
       "      <th>Project Report (10)</th>\n",
       "      <th>Phase 3 marks</th>\n",
       "      <th>ESE marks</th>\n",
       "    </tr>\n",
       "  </thead>\n",
       "  <tbody>\n",
       "  </tbody>\n",
       "</table>\n",
       "<p>0 rows × 23 columns</p>\n",
       "</div>"
      ],
      "text/plain": [
       "Empty DataFrame\n",
       "Columns: [Sr No, UID, Student Name, Email ID, Project Title, Domain, Project Guide, Field/Market Survey & Literature Survey (10), Problem Definition (5), Presentation (10), Project Planning (5), Phase 1 marks, Architecture,Design/Algorithm Testing/Simulation/ System Flow Diagram (DFD), 70% Project Implementaion (20), Ethics, Team Work (5), Presentation(5), Phase 2 marks, Presentation (10).1, Implementation, Project Report (10), Phase 3 marks, ESE marks]\n",
       "Index: []\n",
       "\n",
       "[0 rows x 23 columns]"
      ]
     },
     "execution_count": 8,
     "metadata": {},
     "output_type": "execute_result"
    }
   ],
   "source": [
    "ab_count = df.isin([\"AB\"]).sum().sum()\n",
    "ab_rows = df[df.isin([\"AB\"]).any(axis=1)]\n",
    "\n",
    "index = df.isin([\"AB\"]).any(axis=1).index\n",
    "index\n",
    "df.drop(index)"
   ]
  },
  {
   "cell_type": "code",
   "execution_count": 9,
   "metadata": {},
   "outputs": [],
   "source": [
    "import sqlite3\n",
    "\n",
    "conn = sqlite3.connect(\"project.db\")  # Create or connect to the database file\n"
   ]
  },
  {
   "cell_type": "code",
   "execution_count": 10,
   "metadata": {},
   "outputs": [
    {
     "ename": "ValueError",
     "evalue": "Table 'projects' already exists.",
     "output_type": "error",
     "traceback": [
      "\u001b[1;31m---------------------------------------------------------------------------\u001b[0m",
      "\u001b[1;31mValueError\u001b[0m                                Traceback (most recent call last)",
      "Cell \u001b[1;32mIn[10], line 1\u001b[0m\n\u001b[1;32m----> 1\u001b[0m \u001b[43mdf\u001b[49m\u001b[38;5;241;43m.\u001b[39;49m\u001b[43mto_sql\u001b[49m\u001b[43m(\u001b[49m\u001b[38;5;124;43m\"\u001b[39;49m\u001b[38;5;124;43mprojects\u001b[39;49m\u001b[38;5;124;43m\"\u001b[39;49m\u001b[43m,\u001b[49m\u001b[43m \u001b[49m\u001b[43mconn\u001b[49m\u001b[43m,\u001b[49m\u001b[43m \u001b[49m\u001b[43mindex\u001b[49m\u001b[38;5;241;43m=\u001b[39;49m\u001b[38;5;28;43;01mFalse\u001b[39;49;00m\u001b[43m)\u001b[49m  \u001b[38;5;66;03m# 'projects' is the table name\u001b[39;00m\n",
      "File \u001b[1;32mc:\\Users\\Saad Surve\\Desktop\\Btech\\TE Btech\\Sem VI\\BAP\\Project\\env\\Lib\\site-packages\\pandas\\util\\_decorators.py:333\u001b[0m, in \u001b[0;36mdeprecate_nonkeyword_arguments.<locals>.decorate.<locals>.wrapper\u001b[1;34m(*args, **kwargs)\u001b[0m\n\u001b[0;32m    327\u001b[0m \u001b[38;5;28;01mif\u001b[39;00m \u001b[38;5;28mlen\u001b[39m(args) \u001b[38;5;241m>\u001b[39m num_allow_args:\n\u001b[0;32m    328\u001b[0m     warnings\u001b[38;5;241m.\u001b[39mwarn(\n\u001b[0;32m    329\u001b[0m         msg\u001b[38;5;241m.\u001b[39mformat(arguments\u001b[38;5;241m=\u001b[39m_format_argument_list(allow_args)),\n\u001b[0;32m    330\u001b[0m         \u001b[38;5;167;01mFutureWarning\u001b[39;00m,\n\u001b[0;32m    331\u001b[0m         stacklevel\u001b[38;5;241m=\u001b[39mfind_stack_level(),\n\u001b[0;32m    332\u001b[0m     )\n\u001b[1;32m--> 333\u001b[0m \u001b[38;5;28;01mreturn\u001b[39;00m \u001b[43mfunc\u001b[49m\u001b[43m(\u001b[49m\u001b[38;5;241;43m*\u001b[39;49m\u001b[43margs\u001b[49m\u001b[43m,\u001b[49m\u001b[43m \u001b[49m\u001b[38;5;241;43m*\u001b[39;49m\u001b[38;5;241;43m*\u001b[39;49m\u001b[43mkwargs\u001b[49m\u001b[43m)\u001b[49m\n",
      "File \u001b[1;32mc:\\Users\\Saad Surve\\Desktop\\Btech\\TE Btech\\Sem VI\\BAP\\Project\\env\\Lib\\site-packages\\pandas\\core\\generic.py:3087\u001b[0m, in \u001b[0;36mNDFrame.to_sql\u001b[1;34m(self, name, con, schema, if_exists, index, index_label, chunksize, dtype, method)\u001b[0m\n\u001b[0;32m   2889\u001b[0m \u001b[38;5;250m\u001b[39m\u001b[38;5;124;03m\"\"\"\u001b[39;00m\n\u001b[0;32m   2890\u001b[0m \u001b[38;5;124;03mWrite records stored in a DataFrame to a SQL database.\u001b[39;00m\n\u001b[0;32m   2891\u001b[0m \n\u001b[1;32m   (...)\u001b[0m\n\u001b[0;32m   3083\u001b[0m \u001b[38;5;124;03m[(1,), (None,), (2,)]\u001b[39;00m\n\u001b[0;32m   3084\u001b[0m \u001b[38;5;124;03m\"\"\"\u001b[39;00m  \u001b[38;5;66;03m# noqa: E501\u001b[39;00m\n\u001b[0;32m   3085\u001b[0m \u001b[38;5;28;01mfrom\u001b[39;00m \u001b[38;5;21;01mpandas\u001b[39;00m\u001b[38;5;21;01m.\u001b[39;00m\u001b[38;5;21;01mio\u001b[39;00m \u001b[38;5;28;01mimport\u001b[39;00m sql\n\u001b[1;32m-> 3087\u001b[0m \u001b[38;5;28;01mreturn\u001b[39;00m \u001b[43msql\u001b[49m\u001b[38;5;241;43m.\u001b[39;49m\u001b[43mto_sql\u001b[49m\u001b[43m(\u001b[49m\n\u001b[0;32m   3088\u001b[0m \u001b[43m    \u001b[49m\u001b[38;5;28;43mself\u001b[39;49m\u001b[43m,\u001b[49m\n\u001b[0;32m   3089\u001b[0m \u001b[43m    \u001b[49m\u001b[43mname\u001b[49m\u001b[43m,\u001b[49m\n\u001b[0;32m   3090\u001b[0m \u001b[43m    \u001b[49m\u001b[43mcon\u001b[49m\u001b[43m,\u001b[49m\n\u001b[0;32m   3091\u001b[0m \u001b[43m    \u001b[49m\u001b[43mschema\u001b[49m\u001b[38;5;241;43m=\u001b[39;49m\u001b[43mschema\u001b[49m\u001b[43m,\u001b[49m\n\u001b[0;32m   3092\u001b[0m \u001b[43m    \u001b[49m\u001b[43mif_exists\u001b[49m\u001b[38;5;241;43m=\u001b[39;49m\u001b[43mif_exists\u001b[49m\u001b[43m,\u001b[49m\n\u001b[0;32m   3093\u001b[0m \u001b[43m    \u001b[49m\u001b[43mindex\u001b[49m\u001b[38;5;241;43m=\u001b[39;49m\u001b[43mindex\u001b[49m\u001b[43m,\u001b[49m\n\u001b[0;32m   3094\u001b[0m \u001b[43m    \u001b[49m\u001b[43mindex_label\u001b[49m\u001b[38;5;241;43m=\u001b[39;49m\u001b[43mindex_label\u001b[49m\u001b[43m,\u001b[49m\n\u001b[0;32m   3095\u001b[0m \u001b[43m    \u001b[49m\u001b[43mchunksize\u001b[49m\u001b[38;5;241;43m=\u001b[39;49m\u001b[43mchunksize\u001b[49m\u001b[43m,\u001b[49m\n\u001b[0;32m   3096\u001b[0m \u001b[43m    \u001b[49m\u001b[43mdtype\u001b[49m\u001b[38;5;241;43m=\u001b[39;49m\u001b[43mdtype\u001b[49m\u001b[43m,\u001b[49m\n\u001b[0;32m   3097\u001b[0m \u001b[43m    \u001b[49m\u001b[43mmethod\u001b[49m\u001b[38;5;241;43m=\u001b[39;49m\u001b[43mmethod\u001b[49m\u001b[43m,\u001b[49m\n\u001b[0;32m   3098\u001b[0m \u001b[43m\u001b[49m\u001b[43m)\u001b[49m\n",
      "File \u001b[1;32mc:\\Users\\Saad Surve\\Desktop\\Btech\\TE Btech\\Sem VI\\BAP\\Project\\env\\Lib\\site-packages\\pandas\\io\\sql.py:842\u001b[0m, in \u001b[0;36mto_sql\u001b[1;34m(frame, name, con, schema, if_exists, index, index_label, chunksize, dtype, method, engine, **engine_kwargs)\u001b[0m\n\u001b[0;32m    837\u001b[0m     \u001b[38;5;28;01mraise\u001b[39;00m \u001b[38;5;167;01mNotImplementedError\u001b[39;00m(\n\u001b[0;32m    838\u001b[0m         \u001b[38;5;124m\"\u001b[39m\u001b[38;5;124m'\u001b[39m\u001b[38;5;124mframe\u001b[39m\u001b[38;5;124m'\u001b[39m\u001b[38;5;124m argument should be either a Series or a DataFrame\u001b[39m\u001b[38;5;124m\"\u001b[39m\n\u001b[0;32m    839\u001b[0m     )\n\u001b[0;32m    841\u001b[0m \u001b[38;5;28;01mwith\u001b[39;00m pandasSQL_builder(con, schema\u001b[38;5;241m=\u001b[39mschema, need_transaction\u001b[38;5;241m=\u001b[39m\u001b[38;5;28;01mTrue\u001b[39;00m) \u001b[38;5;28;01mas\u001b[39;00m pandas_sql:\n\u001b[1;32m--> 842\u001b[0m     \u001b[38;5;28;01mreturn\u001b[39;00m \u001b[43mpandas_sql\u001b[49m\u001b[38;5;241;43m.\u001b[39;49m\u001b[43mto_sql\u001b[49m\u001b[43m(\u001b[49m\n\u001b[0;32m    843\u001b[0m \u001b[43m        \u001b[49m\u001b[43mframe\u001b[49m\u001b[43m,\u001b[49m\n\u001b[0;32m    844\u001b[0m \u001b[43m        \u001b[49m\u001b[43mname\u001b[49m\u001b[43m,\u001b[49m\n\u001b[0;32m    845\u001b[0m \u001b[43m        \u001b[49m\u001b[43mif_exists\u001b[49m\u001b[38;5;241;43m=\u001b[39;49m\u001b[43mif_exists\u001b[49m\u001b[43m,\u001b[49m\n\u001b[0;32m    846\u001b[0m \u001b[43m        \u001b[49m\u001b[43mindex\u001b[49m\u001b[38;5;241;43m=\u001b[39;49m\u001b[43mindex\u001b[49m\u001b[43m,\u001b[49m\n\u001b[0;32m    847\u001b[0m \u001b[43m        \u001b[49m\u001b[43mindex_label\u001b[49m\u001b[38;5;241;43m=\u001b[39;49m\u001b[43mindex_label\u001b[49m\u001b[43m,\u001b[49m\n\u001b[0;32m    848\u001b[0m \u001b[43m        \u001b[49m\u001b[43mschema\u001b[49m\u001b[38;5;241;43m=\u001b[39;49m\u001b[43mschema\u001b[49m\u001b[43m,\u001b[49m\n\u001b[0;32m    849\u001b[0m \u001b[43m        \u001b[49m\u001b[43mchunksize\u001b[49m\u001b[38;5;241;43m=\u001b[39;49m\u001b[43mchunksize\u001b[49m\u001b[43m,\u001b[49m\n\u001b[0;32m    850\u001b[0m \u001b[43m        \u001b[49m\u001b[43mdtype\u001b[49m\u001b[38;5;241;43m=\u001b[39;49m\u001b[43mdtype\u001b[49m\u001b[43m,\u001b[49m\n\u001b[0;32m    851\u001b[0m \u001b[43m        \u001b[49m\u001b[43mmethod\u001b[49m\u001b[38;5;241;43m=\u001b[39;49m\u001b[43mmethod\u001b[49m\u001b[43m,\u001b[49m\n\u001b[0;32m    852\u001b[0m \u001b[43m        \u001b[49m\u001b[43mengine\u001b[49m\u001b[38;5;241;43m=\u001b[39;49m\u001b[43mengine\u001b[49m\u001b[43m,\u001b[49m\n\u001b[0;32m    853\u001b[0m \u001b[43m        \u001b[49m\u001b[38;5;241;43m*\u001b[39;49m\u001b[38;5;241;43m*\u001b[39;49m\u001b[43mengine_kwargs\u001b[49m\u001b[43m,\u001b[49m\n\u001b[0;32m    854\u001b[0m \u001b[43m    \u001b[49m\u001b[43m)\u001b[49m\n",
      "File \u001b[1;32mc:\\Users\\Saad Surve\\Desktop\\Btech\\TE Btech\\Sem VI\\BAP\\Project\\env\\Lib\\site-packages\\pandas\\io\\sql.py:2850\u001b[0m, in \u001b[0;36mSQLiteDatabase.to_sql\u001b[1;34m(self, frame, name, if_exists, index, index_label, schema, chunksize, dtype, method, engine, **engine_kwargs)\u001b[0m\n\u001b[0;32m   2839\u001b[0m             \u001b[38;5;28;01mraise\u001b[39;00m \u001b[38;5;167;01mValueError\u001b[39;00m(\u001b[38;5;124mf\u001b[39m\u001b[38;5;124m\"\u001b[39m\u001b[38;5;132;01m{\u001b[39;00mcol\u001b[38;5;132;01m}\u001b[39;00m\u001b[38;5;124m (\u001b[39m\u001b[38;5;132;01m{\u001b[39;00mmy_type\u001b[38;5;132;01m}\u001b[39;00m\u001b[38;5;124m) not a string\u001b[39m\u001b[38;5;124m\"\u001b[39m)\n\u001b[0;32m   2841\u001b[0m table \u001b[38;5;241m=\u001b[39m SQLiteTable(\n\u001b[0;32m   2842\u001b[0m     name,\n\u001b[0;32m   2843\u001b[0m     \u001b[38;5;28mself\u001b[39m,\n\u001b[1;32m   (...)\u001b[0m\n\u001b[0;32m   2848\u001b[0m     dtype\u001b[38;5;241m=\u001b[39mdtype,\n\u001b[0;32m   2849\u001b[0m )\n\u001b[1;32m-> 2850\u001b[0m \u001b[43mtable\u001b[49m\u001b[38;5;241;43m.\u001b[39;49m\u001b[43mcreate\u001b[49m\u001b[43m(\u001b[49m\u001b[43m)\u001b[49m\n\u001b[0;32m   2851\u001b[0m \u001b[38;5;28;01mreturn\u001b[39;00m table\u001b[38;5;241m.\u001b[39minsert(chunksize, method)\n",
      "File \u001b[1;32mc:\\Users\\Saad Surve\\Desktop\\Btech\\TE Btech\\Sem VI\\BAP\\Project\\env\\Lib\\site-packages\\pandas\\io\\sql.py:986\u001b[0m, in \u001b[0;36mSQLTable.create\u001b[1;34m(self)\u001b[0m\n\u001b[0;32m    984\u001b[0m \u001b[38;5;28;01mif\u001b[39;00m \u001b[38;5;28mself\u001b[39m\u001b[38;5;241m.\u001b[39mexists():\n\u001b[0;32m    985\u001b[0m     \u001b[38;5;28;01mif\u001b[39;00m \u001b[38;5;28mself\u001b[39m\u001b[38;5;241m.\u001b[39mif_exists \u001b[38;5;241m==\u001b[39m \u001b[38;5;124m\"\u001b[39m\u001b[38;5;124mfail\u001b[39m\u001b[38;5;124m\"\u001b[39m:\n\u001b[1;32m--> 986\u001b[0m         \u001b[38;5;28;01mraise\u001b[39;00m \u001b[38;5;167;01mValueError\u001b[39;00m(\u001b[38;5;124mf\u001b[39m\u001b[38;5;124m\"\u001b[39m\u001b[38;5;124mTable \u001b[39m\u001b[38;5;124m'\u001b[39m\u001b[38;5;132;01m{\u001b[39;00m\u001b[38;5;28mself\u001b[39m\u001b[38;5;241m.\u001b[39mname\u001b[38;5;132;01m}\u001b[39;00m\u001b[38;5;124m'\u001b[39m\u001b[38;5;124m already exists.\u001b[39m\u001b[38;5;124m\"\u001b[39m)\n\u001b[0;32m    987\u001b[0m     \u001b[38;5;28;01mif\u001b[39;00m \u001b[38;5;28mself\u001b[39m\u001b[38;5;241m.\u001b[39mif_exists \u001b[38;5;241m==\u001b[39m \u001b[38;5;124m\"\u001b[39m\u001b[38;5;124mreplace\u001b[39m\u001b[38;5;124m\"\u001b[39m:\n\u001b[0;32m    988\u001b[0m         \u001b[38;5;28mself\u001b[39m\u001b[38;5;241m.\u001b[39mpd_sql\u001b[38;5;241m.\u001b[39mdrop_table(\u001b[38;5;28mself\u001b[39m\u001b[38;5;241m.\u001b[39mname, \u001b[38;5;28mself\u001b[39m\u001b[38;5;241m.\u001b[39mschema)\n",
      "\u001b[1;31mValueError\u001b[0m: Table 'projects' already exists."
     ]
    }
   ],
   "source": [
    "df.to_sql(\"projects\", conn, index=False)  # 'projects' is the table name\n"
   ]
  },
  {
   "cell_type": "code",
   "execution_count": null,
   "metadata": {},
   "outputs": [
    {
     "name": "stdout",
     "output_type": "stream",
     "text": [
      "[(1, 2021300040, 'Prakhar Gupta', 'prakhar.gupta@spit.ac.in', 'Chronic disease  detection and cure', 'Machine Learning', 'Prof. Anand Godbole ', '10', '4', '8', '0', '27', '4', '17', '5', '5', '5', '36', '8', '10', '9', '27', '82'), (1, 2021300033, 'Parth Gandhi', 'parth.gandhi2@spit.ac.in', 'Chronic disease  detection and cure', 'Machine Learning', 'Prof. Anand Godbole ', '8', '4', '10', '1', '27', '5', '20', '4', '4', '4', '36', '10', '8', '9', '27', '82'), (1, 2021300031, \"Shaun D'Souza\", 'shaun.dsouza@spit.ac.in', 'Chronic disease  detection and cure', 'Machine Learning', 'Prof. Anand Godbole ', '8', '5', '8', '4', '27', '4', '20', '4', '4', '4', '36', '8', '8', '10', '27', '82'), (2, 2021300023, 'ameya dabholkar', 'ameya.dabholkar@spit.ac.in', 'Dieses detection using Image classification & Deep learning', 'Machine Learning, OpenCV', 'Prof. Rupali sawant', '8', '5', '9', '0', '28', '5', '18', '4', '5', '5', '38', '10', '9', '8', '27', '81'), (2, 2021300025, 'vedant deshmukh', 'vedant.deshmukh@spit.ac.in', 'Dieses detection using Image classification & Deep learning', 'Machine Learning, OpenCV', 'Prof. Rupali sawant', '9', '5', '9', '4', '28', '4', '18', '5', '4', '5', '38', '10', '8', '9', '27', '81')]\n"
     ]
    }
   ],
   "source": [
    "cursor = conn.cursor()\n",
    "cursor.execute(\"SELECT * FROM projects LIMIT 5\")  # Fetch the first 5 rows\n",
    "print(cursor.fetchall())\n",
    "\n",
    "# 5. Close the database connection\n",
    "conn.close()"
   ]
  },
  {
   "cell_type": "code",
   "execution_count": null,
   "metadata": {},
   "outputs": [],
   "source": [
    "domains = df['Domain'].str.split(',').explode().str.strip()"
   ]
  },
  {
   "cell_type": "code",
   "execution_count": null,
   "metadata": {},
   "outputs": [
    {
     "data": {
      "text/plain": [
       "Domain\n",
       "Machine Learning    209\n",
       "Web Development     129\n",
       "OpenCV               66\n",
       "App Development      39\n",
       "NLP                  30\n",
       "Web Scraping         15\n",
       "Blockchain           12\n",
       "IoT                   6\n",
       "Name: count, dtype: int64"
      ]
     },
     "execution_count": 15,
     "metadata": {},
     "output_type": "execute_result"
    }
   ],
   "source": [
    "domains_counts = domains.value_counts()\n",
    "domains_counts"
   ]
  },
  {
   "cell_type": "code",
   "execution_count": null,
   "metadata": {},
   "outputs": [],
   "source": [
    "def get_branch(uid):\n",
    "    fifth_digit = str(uid)[4]\n",
    "    if fifth_digit == '3':\n",
    "        return 'COMPS'\n",
    "    elif fifth_digit == '6':\n",
    "        return 'AIML'\n",
    "    else:\n",
    "        return 'DS'\n",
    "   "
   ]
  },
  {
   "cell_type": "code",
   "execution_count": null,
   "metadata": {},
   "outputs": [
    {
     "data": {
      "text/plain": [
       "Branch  Domain          \n",
       "AIML    Machine Learning    61\n",
       "        Web Development     26\n",
       "        OpenCV              16\n",
       "        NLP                 12\n",
       "        App Development      6\n",
       "        IoT                  3\n",
       "        Web Scraping         3\n",
       "COMPS   Machine Learning    90\n",
       "        Web Development     67\n",
       "        App Development     27\n",
       "        OpenCV              27\n",
       "        NLP                  9\n",
       "        Web Scraping         9\n",
       "        Blockchain           6\n",
       "        IoT                  3\n",
       "DS      Machine Learning    58\n",
       "        Web Development     36\n",
       "        OpenCV              23\n",
       "        NLP                  9\n",
       "        App Development      6\n",
       "        Blockchain           6\n",
       "        Web Scraping         3\n",
       "Name: count, dtype: int64"
      ]
     },
     "execution_count": 24,
     "metadata": {},
     "output_type": "execute_result"
    }
   ],
   "source": [
    "df['Branch'] = df['UID'].apply(get_branch)\n",
    "branch_domain_counts = (\n",
    "    df['Domain'].str.split(',').explode().str.strip()\n",
    "    .groupby(df['Branch'])\n",
    "    .value_counts()\n",
    ")\n",
    "branch_domain_counts"
   ]
  },
  {
   "cell_type": "code",
   "execution_count": 11,
   "metadata": {},
   "outputs": [],
   "source": [
    "guide_domain_counts = (\n",
    "    df['Domain'].str.split(',').explode().str.strip()\n",
    "    .groupby(df['Project Guide'])\n",
    "    .value_counts()\n",
    ")"
   ]
  },
  {
   "cell_type": "code",
   "execution_count": 12,
   "metadata": {},
   "outputs": [
    {
     "data": {
      "text/plain": [
       "Project Guide           Domain          \n",
       "Dr. Anant Nimkar        Machine Learning    15\n",
       "                        Web Development      6\n",
       "                        Blockchain           3\n",
       "                        NLP                  3\n",
       "                        OpenCV               3\n",
       "                                            ..\n",
       "Prof. Swapnali Kurhade  App Development      3\n",
       "                        OpenCV               3\n",
       "Prof. Varsha Hole       Machine Learning     9\n",
       "                        NLP                  3\n",
       "                        Web Development      3\n",
       "Name: count, Length: 90, dtype: int64"
      ]
     },
     "execution_count": 12,
     "metadata": {},
     "output_type": "execute_result"
    }
   ],
   "source": [
    "guide_domain_counts"
   ]
  },
  {
   "cell_type": "code",
   "execution_count": 13,
   "metadata": {},
   "outputs": [
    {
     "data": {
      "text/plain": [
       "array([nan])"
      ]
     },
     "execution_count": 13,
     "metadata": {},
     "output_type": "execute_result"
    }
   ],
   "source": [
    "df2 = pd.read_csv('./project_guide.csv')\n",
    "df2['Domain Expertise'].str.split(',').str.strip().unique()"
   ]
  },
  {
   "cell_type": "code",
   "execution_count": 14,
   "metadata": {},
   "outputs": [],
   "source": []
  },
  {
   "cell_type": "code",
   "execution_count": 53,
   "metadata": {},
   "outputs": [
    {
     "name": "stdout",
     "output_type": "stream",
     "text": [
      "Prof. Sheetal Chaudhari    0.976953\n",
      "Prof. Renuka Pawar         0.721148\n",
      "Prof. Varsha Hole          0.200000\n",
      "Prof. Anand Godbole        0.198438\n",
      "Prof. Jignesh Sisodia      0.182188\n",
      "dtype: float64\n"
     ]
    }
   ],
   "source": [
    "import pandas as pd\n",
    "from sklearn.feature_extraction.text import CountVectorizer\n",
    "from sklearn.metrics.pairwise import cosine_similarity\n",
    "from sklearn.preprocessing import MinMaxScaler\n",
    "\n",
    "# Load the datasets\n",
    "student_df = pd.read_csv(\"./data.csv\")\n",
    "faculty_df = pd.read_csv(\"./project_guide.csv\")\n",
    "\n",
    "# Preprocess the data\n",
    "faculty_df['Domain Expertise'] = faculty_df['Domain Expertise'].str.replace(',', ' ')\n",
    "student_df['ESE marks'] = pd.to_numeric(student_df['ESE marks'], errors='coerce')\n",
    "\n",
    "# Calculate the average ESE marks for each faculty\n",
    "faculty_ese = student_df.groupby('Project Guide')['ESE marks'].mean()\n",
    "\n",
    "# Create a scoring system\n",
    "vectorizer = CountVectorizer()\n",
    "faculty_vectors = vectorizer.fit_transform(faculty_df['Domain Expertise'])\n",
    "cosine_sim = cosine_similarity(faculty_vectors)\n",
    "\n",
    "# Get the domains that the user is interested in\n",
    "user_domains = ['blockchain technology']\n",
    "\n",
    "# Transform the user_domains list into a vector\n",
    "user_vector = vectorizer.transform([' '.join(user_domains)])\n",
    "\n",
    "# Calculate the cosine similarity between the user_vector and the faculty vectors\n",
    "# Calculate the cosine similarity between the user_vector and the faculty vectors\n",
    "user_sim = cosine_similarity(faculty_vectors, user_vector)\n",
    "\n",
    "# Flatten the user_sim array and create a Series with the faculty names as the index\n",
    "domain_scores = pd.Series(user_sim.flatten(), index=faculty_df['Name of Faculty'])\n",
    "\n",
    "# Normalize the domain scores and the ESE marks\n",
    "scaler = MinMaxScaler()\n",
    "domain_scores = pd.Series(scaler.fit_transform(domain_scores.values.reshape(-1, 1)).flatten(), index=faculty_df['Name of Faculty'])\n",
    "faculty_ese = pd.Series(scaler.fit_transform(faculty_ese.values.reshape(-1, 1)).flatten(), index=faculty_ese.index)\n",
    "\n",
    "# Calculate the final scores with 80% weight to domain expertise and 20% weight to ESE marks\n",
    "scores = 0.8 * domain_scores + 0.2 * faculty_ese\n",
    "\n",
    "# Get the top 5 faculty recommendations\n",
    "top_5_recommendations = scores.sort_values(ascending=False).head(5)\n",
    "\n",
    "print(top_5_recommendations)\n",
    "# Get the top 5 faculty recommendations\n"
   ]
  },
  {
   "cell_type": "code",
   "execution_count": null,
   "metadata": {},
   "outputs": [],
   "source": []
  },
  {
   "cell_type": "code",
   "execution_count": 52,
   "metadata": {},
   "outputs": [],
   "source": [
    "import pandas as pd\n",
    "from sklearn.feature_extraction.text import CountVectorizer\n",
    "from sklearn.metrics.pairwise import cosine_similarity\n",
    "from sklearn.preprocessing import MinMaxScaler\n",
    "import joblib\n",
    "\n",
    "# Load the datasets\n",
    "student_df = pd.read_csv(\"./data.csv\")\n",
    "faculty_df = pd.read_csv(\"./project_guide.csv\")\n",
    "\n",
    "# Preprocess the data\n",
    "faculty_df['Domain Expertise'] = faculty_df['Domain Expertise'].str.replace(',', ' ')\n",
    "student_df['ESE marks'] = pd.to_numeric(student_df['ESE marks'], errors='coerce')\n",
    "\n",
    "# Calculate the average ESE marks for each faculty\n",
    "faculty_ese = student_df.groupby('Project Guide')['ESE marks'].mean()\n",
    "\n",
    "# Create a scoring system\n",
    "vectorizer = CountVectorizer()\n",
    "faculty_vectors = vectorizer.fit_transform(faculty_df['Domain Expertise'])\n",
    "cosine_sim = cosine_similarity(faculty_vectors)\n",
    "\n",
    "# Train the model\n",
    "scaler = MinMaxScaler()\n",
    "domain_scores = pd.DataFrame(cosine_sim, index=faculty_df['Name of Faculty'], columns=faculty_df['Name of Faculty'])\n",
    "domain_scores = domain_scores.groupby('Name of Faculty').mean()\n",
    "\n",
    "# Normalize the domain scores and the ESE marks\n",
    "faculty_ese = pd.Series(scaler.fit_transform(faculty_ese.values.reshape(-1, 1)).flatten(), index=faculty_ese.index)\n",
    "scores = 0.8 * domain_scores + 0.2 * faculty_ese\n",
    "\n",
    "# Save the model to a file\n",
    "joblib.dump(scores, \"faculty_recommendation_model.pkl\")\n",
    "\n",
    "# Load the model from the file\n",
    "model = joblib.load(\"faculty_recommendation_model.pkl\")\n"
   ]
  },
  {
   "cell_type": "code",
   "execution_count": null,
   "metadata": {},
   "outputs": [],
   "source": []
  }
 ],
 "metadata": {
  "kernelspec": {
   "display_name": "env",
   "language": "python",
   "name": "python3"
  },
  "language_info": {
   "codemirror_mode": {
    "name": "ipython",
    "version": 3
   },
   "file_extension": ".py",
   "mimetype": "text/x-python",
   "name": "python",
   "nbconvert_exporter": "python",
   "pygments_lexer": "ipython3",
   "version": "3.11.0"
  }
 },
 "nbformat": 4,
 "nbformat_minor": 2
}
