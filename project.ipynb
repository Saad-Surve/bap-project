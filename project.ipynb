{
 "cells": [
  {
   "cell_type": "code",
   "execution_count": 44,
   "metadata": {},
   "outputs": [
    {
     "data": {
      "text/plain": [
       "Index(['Sr No', 'UID', 'Student Name', 'Email ID', 'Project Title', 'Domain',\n",
       "       'Project Guide', 'Field/Market Survey & Literature Survey (10)',\n",
       "       'Problem Definition (5)', 'Presentation (10)', 'Project Planning (5)',\n",
       "       'Phase 1 marks',\n",
       "       'Architecture,Design/Algorithm Testing/Simulation/ System Flow Diagram (DFD)',\n",
       "       '70% Project Implementaion (20)', 'Ethics', 'Team Work (5)',\n",
       "       'Presentation(5)', 'Phase 2 marks', 'Presentation (10).1',\n",
       "       'Implementation', 'Project Report (10)', 'Phase 3 marks', 'ESE marks',\n",
       "       'Unnamed: 23'],\n",
       "      dtype='object')"
      ]
     },
     "execution_count": 44,
     "metadata": {},
     "output_type": "execute_result"
    }
   ],
   "source": [
    "import pandas as pd\n",
    "\n",
    "df = pd.read_csv('./data.csv')\n",
    "\n",
    "df.columns"
   ]
  },
  {
   "cell_type": "code",
   "execution_count": 45,
   "metadata": {},
   "outputs": [
    {
     "data": {
      "text/plain": [
       "Sr No                                                                            0\n",
       "UID                                                                              0\n",
       "Student Name                                                                     0\n",
       "Email ID                                                                         0\n",
       "Project Title                                                                    0\n",
       "Domain                                                                           0\n",
       "Project Guide                                                                    0\n",
       "Field/Market Survey & Literature Survey (10)                                     0\n",
       "Problem Definition (5)                                                           0\n",
       "Presentation (10)                                                                0\n",
       "Project Planning (5)                                                             0\n",
       "Phase 1 marks                                                                    0\n",
       "Architecture,Design/Algorithm Testing/Simulation/ System Flow Diagram (DFD)      0\n",
       "70% Project Implementaion (20)                                                   0\n",
       "Ethics                                                                           0\n",
       "Team Work (5)                                                                    0\n",
       "Presentation(5)                                                                  0\n",
       "Phase 2 marks                                                                    0\n",
       "Presentation (10).1                                                              0\n",
       "Implementation                                                                   0\n",
       "Project Report (10)                                                              0\n",
       "Phase 3 marks                                                                    0\n",
       "ESE marks                                                                        0\n",
       "Unnamed: 23                                                                    308\n",
       "dtype: int64"
      ]
     },
     "execution_count": 45,
     "metadata": {},
     "output_type": "execute_result"
    }
   ],
   "source": [
    "df.isnull().sum()"
   ]
  },
  {
   "cell_type": "code",
   "execution_count": 46,
   "metadata": {},
   "outputs": [],
   "source": [
    "df.drop(df.filter(regex=\"Unname\"),axis=1, inplace=True)"
   ]
  },
  {
   "cell_type": "code",
   "execution_count": 47,
   "metadata": {},
   "outputs": [
    {
     "data": {
      "text/html": [
       "<div>\n",
       "<style scoped>\n",
       "    .dataframe tbody tr th:only-of-type {\n",
       "        vertical-align: middle;\n",
       "    }\n",
       "\n",
       "    .dataframe tbody tr th {\n",
       "        vertical-align: top;\n",
       "    }\n",
       "\n",
       "    .dataframe thead th {\n",
       "        text-align: right;\n",
       "    }\n",
       "</style>\n",
       "<table border=\"1\" class=\"dataframe\">\n",
       "  <thead>\n",
       "    <tr style=\"text-align: right;\">\n",
       "      <th></th>\n",
       "      <th>Sr No</th>\n",
       "      <th>UID</th>\n",
       "      <th>Student Name</th>\n",
       "      <th>Email ID</th>\n",
       "      <th>Project Title</th>\n",
       "      <th>Domain</th>\n",
       "      <th>Project Guide</th>\n",
       "      <th>Field/Market Survey &amp; Literature Survey (10)</th>\n",
       "      <th>Problem Definition (5)</th>\n",
       "      <th>Presentation (10)</th>\n",
       "      <th>...</th>\n",
       "      <th>70% Project Implementaion (20)</th>\n",
       "      <th>Ethics</th>\n",
       "      <th>Team Work (5)</th>\n",
       "      <th>Presentation(5)</th>\n",
       "      <th>Phase 2 marks</th>\n",
       "      <th>Presentation (10).1</th>\n",
       "      <th>Implementation</th>\n",
       "      <th>Project Report (10)</th>\n",
       "      <th>Phase 3 marks</th>\n",
       "      <th>ESE marks</th>\n",
       "    </tr>\n",
       "  </thead>\n",
       "  <tbody>\n",
       "    <tr>\n",
       "      <th>0</th>\n",
       "      <td>1</td>\n",
       "      <td>2021300040</td>\n",
       "      <td>Prakhar Gupta</td>\n",
       "      <td>prakhar.gupta@spit.ac.in</td>\n",
       "      <td>Chronic disease  detection and cure</td>\n",
       "      <td>Machine Learning</td>\n",
       "      <td>Prof. Anand Godbole</td>\n",
       "      <td>10</td>\n",
       "      <td>4</td>\n",
       "      <td>8</td>\n",
       "      <td>...</td>\n",
       "      <td>17</td>\n",
       "      <td>5</td>\n",
       "      <td>5</td>\n",
       "      <td>5</td>\n",
       "      <td>36</td>\n",
       "      <td>8</td>\n",
       "      <td>10</td>\n",
       "      <td>9</td>\n",
       "      <td>27</td>\n",
       "      <td>82</td>\n",
       "    </tr>\n",
       "    <tr>\n",
       "      <th>1</th>\n",
       "      <td>1</td>\n",
       "      <td>2021300033</td>\n",
       "      <td>Parth Gandhi</td>\n",
       "      <td>parth.gandhi2@spit.ac.in</td>\n",
       "      <td>Chronic disease  detection and cure</td>\n",
       "      <td>Machine Learning</td>\n",
       "      <td>Prof. Anand Godbole</td>\n",
       "      <td>8</td>\n",
       "      <td>4</td>\n",
       "      <td>10</td>\n",
       "      <td>...</td>\n",
       "      <td>20</td>\n",
       "      <td>4</td>\n",
       "      <td>4</td>\n",
       "      <td>4</td>\n",
       "      <td>36</td>\n",
       "      <td>10</td>\n",
       "      <td>8</td>\n",
       "      <td>9</td>\n",
       "      <td>27</td>\n",
       "      <td>82</td>\n",
       "    </tr>\n",
       "    <tr>\n",
       "      <th>2</th>\n",
       "      <td>1</td>\n",
       "      <td>2021300031</td>\n",
       "      <td>Shaun D'Souza</td>\n",
       "      <td>shaun.dsouza@spit.ac.in</td>\n",
       "      <td>Chronic disease  detection and cure</td>\n",
       "      <td>Machine Learning</td>\n",
       "      <td>Prof. Anand Godbole</td>\n",
       "      <td>8</td>\n",
       "      <td>5</td>\n",
       "      <td>8</td>\n",
       "      <td>...</td>\n",
       "      <td>20</td>\n",
       "      <td>4</td>\n",
       "      <td>4</td>\n",
       "      <td>4</td>\n",
       "      <td>36</td>\n",
       "      <td>8</td>\n",
       "      <td>8</td>\n",
       "      <td>10</td>\n",
       "      <td>27</td>\n",
       "      <td>82</td>\n",
       "    </tr>\n",
       "    <tr>\n",
       "      <th>3</th>\n",
       "      <td>2</td>\n",
       "      <td>2021300023</td>\n",
       "      <td>ameya dabholkar</td>\n",
       "      <td>ameya.dabholkar@spit.ac.in</td>\n",
       "      <td>Dieses detection using Image classification &amp; ...</td>\n",
       "      <td>Machine Learning, OpenCV</td>\n",
       "      <td>Prof. Rupali sawant</td>\n",
       "      <td>8</td>\n",
       "      <td>5</td>\n",
       "      <td>9</td>\n",
       "      <td>...</td>\n",
       "      <td>18</td>\n",
       "      <td>4</td>\n",
       "      <td>5</td>\n",
       "      <td>5</td>\n",
       "      <td>38</td>\n",
       "      <td>10</td>\n",
       "      <td>9</td>\n",
       "      <td>8</td>\n",
       "      <td>27</td>\n",
       "      <td>81</td>\n",
       "    </tr>\n",
       "    <tr>\n",
       "      <th>4</th>\n",
       "      <td>2</td>\n",
       "      <td>2021300025</td>\n",
       "      <td>vedant deshmukh</td>\n",
       "      <td>vedant.deshmukh@spit.ac.in</td>\n",
       "      <td>Dieses detection using Image classification &amp; ...</td>\n",
       "      <td>Machine Learning, OpenCV</td>\n",
       "      <td>Prof. Rupali sawant</td>\n",
       "      <td>9</td>\n",
       "      <td>5</td>\n",
       "      <td>9</td>\n",
       "      <td>...</td>\n",
       "      <td>18</td>\n",
       "      <td>5</td>\n",
       "      <td>4</td>\n",
       "      <td>5</td>\n",
       "      <td>38</td>\n",
       "      <td>10</td>\n",
       "      <td>8</td>\n",
       "      <td>9</td>\n",
       "      <td>27</td>\n",
       "      <td>81</td>\n",
       "    </tr>\n",
       "  </tbody>\n",
       "</table>\n",
       "<p>5 rows × 23 columns</p>\n",
       "</div>"
      ],
      "text/plain": [
       "   Sr No         UID     Student Name                    Email ID  \\\n",
       "0      1  2021300040    Prakhar Gupta    prakhar.gupta@spit.ac.in   \n",
       "1      1  2021300033     Parth Gandhi    parth.gandhi2@spit.ac.in   \n",
       "2      1  2021300031    Shaun D'Souza     shaun.dsouza@spit.ac.in   \n",
       "3      2  2021300023  ameya dabholkar  ameya.dabholkar@spit.ac.in   \n",
       "4      2  2021300025  vedant deshmukh  vedant.deshmukh@spit.ac.in   \n",
       "\n",
       "                                       Project Title  \\\n",
       "0                Chronic disease  detection and cure   \n",
       "1                Chronic disease  detection and cure   \n",
       "2                Chronic disease  detection and cure   \n",
       "3  Dieses detection using Image classification & ...   \n",
       "4  Dieses detection using Image classification & ...   \n",
       "\n",
       "                     Domain         Project Guide  \\\n",
       "0          Machine Learning  Prof. Anand Godbole    \n",
       "1          Machine Learning  Prof. Anand Godbole    \n",
       "2          Machine Learning  Prof. Anand Godbole    \n",
       "3  Machine Learning, OpenCV   Prof. Rupali sawant   \n",
       "4  Machine Learning, OpenCV   Prof. Rupali sawant   \n",
       "\n",
       "  Field/Market Survey & Literature Survey (10) Problem Definition (5)  \\\n",
       "0                                           10                      4   \n",
       "1                                            8                      4   \n",
       "2                                            8                      5   \n",
       "3                                            8                      5   \n",
       "4                                            9                      5   \n",
       "\n",
       "  Presentation (10)  ... 70% Project Implementaion (20) Ethics Team Work (5)  \\\n",
       "0                 8  ...                             17      5             5   \n",
       "1                10  ...                             20      4             4   \n",
       "2                 8  ...                             20      4             4   \n",
       "3                 9  ...                             18      4             5   \n",
       "4                 9  ...                             18      5             4   \n",
       "\n",
       "  Presentation(5) Phase 2 marks Presentation (10).1 Implementation  \\\n",
       "0               5            36                   8             10   \n",
       "1               4            36                  10              8   \n",
       "2               4            36                   8              8   \n",
       "3               5            38                  10              9   \n",
       "4               5            38                  10              8   \n",
       "\n",
       "  Project Report (10) Phase 3 marks ESE marks  \n",
       "0                   9            27        82  \n",
       "1                   9            27        82  \n",
       "2                  10            27        82  \n",
       "3                   8            27        81  \n",
       "4                   9            27        81  \n",
       "\n",
       "[5 rows x 23 columns]"
      ]
     },
     "execution_count": 47,
     "metadata": {},
     "output_type": "execute_result"
    }
   ],
   "source": [
    "df.head()"
   ]
  },
  {
   "cell_type": "code",
   "execution_count": 40,
   "metadata": {},
   "outputs": [
    {
     "data": {
      "text/plain": [
       "Sr No                                                                          0\n",
       "UID                                                                            0\n",
       "Student Name                                                                   0\n",
       "Email ID                                                                       0\n",
       "Project Title                                                                  0\n",
       "Domain                                                                         0\n",
       "Project Guide                                                                  0\n",
       "Field/Market Survey & Literature Survey (10)                                   0\n",
       "Problem Definition (5)                                                         0\n",
       "Presentation (10)                                                              0\n",
       "Project Planning (5)                                                           0\n",
       "Phase 1 marks                                                                  0\n",
       "Architecture,Design/Algorithm Testing/Simulation/ System Flow Diagram (DFD)    0\n",
       "70% Project Implementaion (20)                                                 0\n",
       "Ethics                                                                         0\n",
       "Team Work (5)                                                                  0\n",
       "Presentation(5)                                                                0\n",
       "Phase 2 marks                                                                  0\n",
       "Presentation (10).1                                                            0\n",
       "Implementation                                                                 0\n",
       "Project Report (10)                                                            0\n",
       "Phase 3 marks                                                                  0\n",
       "ESE marks                                                                      0\n",
       "dtype: int64"
      ]
     },
     "execution_count": 40,
     "metadata": {},
     "output_type": "execute_result"
    }
   ],
   "source": [
    "df.isnull().sum()"
   ]
  },
  {
   "cell_type": "code",
   "execution_count": 43,
   "metadata": {},
   "outputs": [
    {
     "data": {
      "text/html": [
       "<div>\n",
       "<style scoped>\n",
       "    .dataframe tbody tr th:only-of-type {\n",
       "        vertical-align: middle;\n",
       "    }\n",
       "\n",
       "    .dataframe tbody tr th {\n",
       "        vertical-align: top;\n",
       "    }\n",
       "\n",
       "    .dataframe thead th {\n",
       "        text-align: right;\n",
       "    }\n",
       "</style>\n",
       "<table border=\"1\" class=\"dataframe\">\n",
       "  <thead>\n",
       "    <tr style=\"text-align: right;\">\n",
       "      <th></th>\n",
       "      <th>Sr No</th>\n",
       "      <th>UID</th>\n",
       "      <th>Student Name</th>\n",
       "      <th>Email ID</th>\n",
       "      <th>Project Title</th>\n",
       "      <th>Domain</th>\n",
       "      <th>Project Guide</th>\n",
       "      <th>Field/Market Survey &amp; Literature Survey (10)</th>\n",
       "      <th>Problem Definition (5)</th>\n",
       "      <th>Presentation (10)</th>\n",
       "      <th>...</th>\n",
       "      <th>70% Project Implementaion (20)</th>\n",
       "      <th>Ethics</th>\n",
       "      <th>Team Work (5)</th>\n",
       "      <th>Presentation(5)</th>\n",
       "      <th>Phase 2 marks</th>\n",
       "      <th>Presentation (10).1</th>\n",
       "      <th>Implementation</th>\n",
       "      <th>Project Report (10)</th>\n",
       "      <th>Phase 3 marks</th>\n",
       "      <th>ESE marks</th>\n",
       "    </tr>\n",
       "  </thead>\n",
       "  <tbody>\n",
       "  </tbody>\n",
       "</table>\n",
       "<p>0 rows × 23 columns</p>\n",
       "</div>"
      ],
      "text/plain": [
       "Empty DataFrame\n",
       "Columns: [Sr No, UID, Student Name, Email ID, Project Title, Domain, Project Guide, Field/Market Survey & Literature Survey (10), Problem Definition (5), Presentation (10), Project Planning (5), Phase 1 marks, Architecture,Design/Algorithm Testing/Simulation/ System Flow Diagram (DFD), 70% Project Implementaion (20), Ethics, Team Work (5), Presentation(5), Phase 2 marks, Presentation (10).1, Implementation, Project Report (10), Phase 3 marks, ESE marks]\n",
       "Index: []\n",
       "\n",
       "[0 rows x 23 columns]"
      ]
     },
     "execution_count": 43,
     "metadata": {},
     "output_type": "execute_result"
    }
   ],
   "source": [
    "ab_count = df.isin([\"AB\"]).sum().sum()\n",
    "ab_rows = df[df.isin([\"AB\"]).any(axis=1)]\n",
    "\n",
    "index = df.isin([\"AB\"]).any(axis=1).index\n",
    "index\n",
    "df.drop(index)"
   ]
  },
  {
   "cell_type": "code",
   "execution_count": 48,
   "metadata": {},
   "outputs": [],
   "source": [
    "import sqlite3\n",
    "\n",
    "conn = sqlite3.connect(\"project.db\")  # Create or connect to the database file\n"
   ]
  },
  {
   "cell_type": "code",
   "execution_count": 50,
   "metadata": {},
   "outputs": [
    {
     "data": {
      "text/plain": [
       "309"
      ]
     },
     "execution_count": 50,
     "metadata": {},
     "output_type": "execute_result"
    }
   ],
   "source": [
    "df.to_sql(\"projects\", conn, index=False)  # 'projects' is the table name\n"
   ]
  },
  {
   "cell_type": "code",
   "execution_count": 51,
   "metadata": {},
   "outputs": [
    {
     "name": "stdout",
     "output_type": "stream",
     "text": [
      "[(1, 2021300040, 'Prakhar Gupta', 'prakhar.gupta@spit.ac.in', 'Chronic disease  detection and cure', 'Machine Learning', 'Prof. Anand Godbole ', '10', '4', '8', '0', '27', '4', '17', '5', '5', '5', '36', '8', '10', '9', '27', '82'), (1, 2021300033, 'Parth Gandhi', 'parth.gandhi2@spit.ac.in', 'Chronic disease  detection and cure', 'Machine Learning', 'Prof. Anand Godbole ', '8', '4', '10', '1', '27', '5', '20', '4', '4', '4', '36', '10', '8', '9', '27', '82'), (1, 2021300031, \"Shaun D'Souza\", 'shaun.dsouza@spit.ac.in', 'Chronic disease  detection and cure', 'Machine Learning', 'Prof. Anand Godbole ', '8', '5', '8', '4', '27', '4', '20', '4', '4', '4', '36', '8', '8', '10', '27', '82'), (2, 2021300023, 'ameya dabholkar', 'ameya.dabholkar@spit.ac.in', 'Dieses detection using Image classification & Deep learning', 'Machine Learning, OpenCV', 'Prof. Rupali sawant', '8', '5', '9', '0', '28', '5', '18', '4', '5', '5', '38', '10', '9', '8', '27', '81'), (2, 2021300025, 'vedant deshmukh', 'vedant.deshmukh@spit.ac.in', 'Dieses detection using Image classification & Deep learning', 'Machine Learning, OpenCV', 'Prof. Rupali sawant', '9', '5', '9', '4', '28', '4', '18', '5', '4', '5', '38', '10', '8', '9', '27', '81')]\n"
     ]
    }
   ],
   "source": [
    "cursor = conn.cursor()\n",
    "cursor.execute(\"SELECT * FROM projects LIMIT 5\")  # Fetch the first 5 rows\n",
    "print(cursor.fetchall())\n",
    "\n",
    "# 5. Close the database connection\n",
    "conn.close()"
   ]
  },
  {
   "cell_type": "code",
   "execution_count": 14,
   "metadata": {},
   "outputs": [],
   "source": [
    "domains = df['Domain'].str.split(',').explode().str.strip()"
   ]
  },
  {
   "cell_type": "code",
   "execution_count": 15,
   "metadata": {},
   "outputs": [
    {
     "data": {
      "text/plain": [
       "Domain\n",
       "Machine Learning    209\n",
       "Web Development     129\n",
       "OpenCV               66\n",
       "App Development      39\n",
       "NLP                  30\n",
       "Web Scraping         15\n",
       "Blockchain           12\n",
       "IoT                   6\n",
       "Name: count, dtype: int64"
      ]
     },
     "execution_count": 15,
     "metadata": {},
     "output_type": "execute_result"
    }
   ],
   "source": [
    "domains_counts = domains.value_counts()\n",
    "domains_counts"
   ]
  },
  {
   "cell_type": "code",
   "execution_count": 23,
   "metadata": {},
   "outputs": [],
   "source": [
    "def get_branch(uid):\n",
    "    fifth_digit = str(uid)[4]\n",
    "    if fifth_digit == '3':\n",
    "        return 'COMPS'\n",
    "    elif fifth_digit == '6':\n",
    "        return 'AIML'\n",
    "    else:\n",
    "        return 'DS'\n",
    "   "
   ]
  },
  {
   "cell_type": "code",
   "execution_count": 24,
   "metadata": {},
   "outputs": [
    {
     "data": {
      "text/plain": [
       "Branch  Domain          \n",
       "AIML    Machine Learning    61\n",
       "        Web Development     26\n",
       "        OpenCV              16\n",
       "        NLP                 12\n",
       "        App Development      6\n",
       "        IoT                  3\n",
       "        Web Scraping         3\n",
       "COMPS   Machine Learning    90\n",
       "        Web Development     67\n",
       "        App Development     27\n",
       "        OpenCV              27\n",
       "        NLP                  9\n",
       "        Web Scraping         9\n",
       "        Blockchain           6\n",
       "        IoT                  3\n",
       "DS      Machine Learning    58\n",
       "        Web Development     36\n",
       "        OpenCV              23\n",
       "        NLP                  9\n",
       "        App Development      6\n",
       "        Blockchain           6\n",
       "        Web Scraping         3\n",
       "Name: count, dtype: int64"
      ]
     },
     "execution_count": 24,
     "metadata": {},
     "output_type": "execute_result"
    }
   ],
   "source": [
    "df['Branch'] = df['UID'].apply(get_branch)\n",
    "branch_domain_counts = (\n",
    "    df['Domain'].str.split(',').explode().str.strip()\n",
    "    .groupby(df['Branch'])\n",
    "    .value_counts()\n",
    ")\n",
    "branch_domain_counts"
   ]
  },
  {
   "cell_type": "code",
   "execution_count": 25,
   "metadata": {},
   "outputs": [],
   "source": [
    "guide_domain_counts = (\n",
    "    df['Domain'].str.split(',').explode().str.strip()\n",
    "    .groupby(df['Project Guide'])\n",
    "    .value_counts()\n",
    ")"
   ]
  },
  {
   "cell_type": "code",
   "execution_count": 26,
   "metadata": {},
   "outputs": [
    {
     "data": {
      "text/plain": [
       "Project Guide           Domain          \n",
       "Dr. Anant Nimkar        Machine Learning    15\n",
       "                        Web Development      6\n",
       "                        Blockchain           3\n",
       "                        NLP                  3\n",
       "                        OpenCV               3\n",
       "                                            ..\n",
       "Prof. Swapnali Kurhade  App Development      3\n",
       "                        OpenCV               3\n",
       "Prof. Varsha Hole       Machine Learning     9\n",
       "                        NLP                  3\n",
       "                        Web Development      3\n",
       "Name: count, Length: 90, dtype: int64"
      ]
     },
     "execution_count": 26,
     "metadata": {},
     "output_type": "execute_result"
    }
   ],
   "source": [
    "guide_domain_counts"
   ]
  },
  {
   "cell_type": "code",
   "execution_count": null,
   "metadata": {},
   "outputs": [],
   "source": []
  }
 ],
 "metadata": {
  "kernelspec": {
   "display_name": "env",
   "language": "python",
   "name": "python3"
  },
  "language_info": {
   "codemirror_mode": {
    "name": "ipython",
    "version": 3
   },
   "file_extension": ".py",
   "mimetype": "text/x-python",
   "name": "python",
   "nbconvert_exporter": "python",
   "pygments_lexer": "ipython3",
   "version": "3.11.0"
  }
 },
 "nbformat": 4,
 "nbformat_minor": 2
}
